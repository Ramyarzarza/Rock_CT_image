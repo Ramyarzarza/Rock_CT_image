{
 "cells": [
  {
   "cell_type": "code",
   "execution_count": 1,
   "metadata": {},
   "outputs": [],
   "source": [
    "import cv2\n",
    "import numpy as np\n",
    "from sklearn.cluster import MeanShift, estimate_bandwidth, KMeans"
   ]
  },
  {
   "cell_type": "code",
   "execution_count": 2,
   "metadata": {},
   "outputs": [],
   "source": [
    "drawing = False\n",
    "brush_size = 6\n",
    "mask = None\n",
    "\n",
    "def draw_freehand(event, x, y, flags, param):\n",
    "    global drawing, mask, image\n",
    "\n",
    "    if event == cv2.EVENT_LBUTTONDOWN:  # Start drawing\n",
    "        drawing = True\n",
    "        cv2.circle(mask, (x, y), brush_size, 255, -1)\n",
    "\n",
    "    elif event == cv2.EVENT_MOUSEMOVE:  # Draw while moving the mouse\n",
    "        if drawing:\n",
    "            cv2.circle(mask, (x, y), brush_size, 255, -1)\n",
    "\n",
    "    elif event == cv2.EVENT_LBUTTONUP:  # Stop drawing and apply segmentation\n",
    "        drawing = False\n",
    "        apply_segmentation()\n",
    "\n",
    "def apply_segmentation():\n",
    "    global image, mask\n",
    "\n",
    "    # Extract selected region using the mask\n",
    "    selected_pixels = cv2.bitwise_and(image, image, mask=mask)\n",
    "\n",
    "    # Reshape selected region for clustering\n",
    "    pixels = selected_pixels.reshape(-1, 3)\n",
    "    pixels = pixels[np.any(pixels != 0, axis=1)]  # Remove black (unselected) pixels\n",
    "\n",
    "    if pixels.size == 0:\n",
    "        print(\"No pixels selected for segmentation.\")\n",
    "        return\n",
    "\n",
    "    # # Estimate bandwidth for Mean Shift\n",
    "    # bandwidth = estimate_bandwidth(pixels, quantile=0.4, n_samples=500)\n",
    "\n",
    "    # # Apply Mean Shift clustering\n",
    "    # mean_shift = MeanShift(bandwidth=5 , bin_seeding=True)\n",
    "    # mean_shift.fit(pixels)\n",
    "\n",
    "    # # Get cluster centers and labels\n",
    "    # labels = mean_shift.labels_\n",
    "    # cluster_centers = mean_shift.cluster_centers_\n",
    "\n",
    "    # Define number of clusters (K)\n",
    "    num_clusters = 2  # You can change this value based on your needs\n",
    "\n",
    "    # Apply KMeans clustering\n",
    "    kmeans = KMeans(n_clusters=num_clusters, random_state=42)\n",
    "    kmeans.fit(pixels)\n",
    "\n",
    "    # Get cluster centers and labels\n",
    "    labels = kmeans.labels_\n",
    "    cluster_centers = kmeans.cluster_centers_\n",
    "\n",
    "    # Change lighter cluster centers to white\n",
    "    lightness_threshold = max(list(cluster_centers.mean(axis=1)))  # Threshold for considering a color \"light\"\n",
    "    # lightness_threshold = 60\n",
    "    for i, center in enumerate(cluster_centers):\n",
    "        if round(np.mean(center),2) >= round(lightness_threshold,2):  # Calculate average intensity\n",
    "            cluster_centers[i] = [255, 255, 255]  # Set to white\n",
    "\n",
    "    # Create segmented pixels\n",
    "    segmented_pixels = cluster_centers[labels].astype(np.uint8)\n",
    "    segmented_region = np.zeros_like(selected_pixels)\n",
    "    segmented_region[np.any(selected_pixels != 0, axis=2)] = segmented_pixels\n",
    "\n",
    "    # Add the segmented region to the main image\n",
    "    white_mask = cv2.inRange(segmented_region, (255, 255, 255), (255, 255, 255))\n",
    "    image[white_mask == 255] = [0, 0, 255]\n",
    "\n",
    "    # Clear the mask for the next iteration\n",
    "    mask.fill(0)\n"
   ]
  },
  {
   "cell_type": "code",
   "execution_count": 4,
   "metadata": {},
   "outputs": [],
   "source": [
    "# Load the grayscale PNG images\n",
    "images_path = '../../../Rock_CT_images/1A-135k-Data/'\n",
    "import os\n",
    "images = os.listdir(images_path)\n",
    "images = [i for i in images if i.endswith('.png')]\n",
    "images = [images_path + i for i in images]\n",
    "\n",
    "def load_preprocess_image(image_path):\n",
    "    image = cv2.imread(image_path)\n",
    "    return image\n",
    "\n",
    "image = load_preprocess_image(images[0])\n",
    "# cv2.imshow(\"Image\", image)\n",
    "# key = cv2.waitKey(0)"
   ]
  },
  {
   "cell_type": "code",
   "execution_count": 5,
   "metadata": {},
   "outputs": [
    {
     "name": "stdout",
     "output_type": "stream",
     "text": [
      "No pixels selected for segmentation.\n"
     ]
    },
    {
     "ename": "KeyboardInterrupt",
     "evalue": "",
     "output_type": "error",
     "traceback": [
      "\u001b[1;31m---------------------------------------------------------------------------\u001b[0m",
      "\u001b[1;31mKeyboardInterrupt\u001b[0m                         Traceback (most recent call last)",
      "\u001b[1;32md:\\GitHub\\Rock_CT_image\\Semgmentation Assistant\\Segmentation assistant.ipynb Cell 4\u001b[0m line \u001b[0;36m2\n\u001b[0;32m     <a href='vscode-notebook-cell:/d%3A/GitHub/Rock_CT_image/Semgmentation%20Assistant/Segmentation%20assistant.ipynb#W3sZmlsZQ%3D%3D?line=18'>19</a>\u001b[0m display_image \u001b[39m=\u001b[39m cv2\u001b[39m.\u001b[39maddWeighted(image, \u001b[39m0.8\u001b[39m, cv2\u001b[39m.\u001b[39mcvtColor(mask, cv2\u001b[39m.\u001b[39mCOLOR_GRAY2BGR), \u001b[39m0.2\u001b[39m, \u001b[39m0\u001b[39m)\n\u001b[0;32m     <a href='vscode-notebook-cell:/d%3A/GitHub/Rock_CT_image/Semgmentation%20Assistant/Segmentation%20assistant.ipynb#W3sZmlsZQ%3D%3D?line=19'>20</a>\u001b[0m cv2\u001b[39m.\u001b[39mimshow(\u001b[39m\"\u001b[39m\u001b[39mImage\u001b[39m\u001b[39m\"\u001b[39m, display_image)\n\u001b[1;32m---> <a href='vscode-notebook-cell:/d%3A/GitHub/Rock_CT_image/Semgmentation%20Assistant/Segmentation%20assistant.ipynb#W3sZmlsZQ%3D%3D?line=21'>22</a>\u001b[0m key \u001b[39m=\u001b[39m cv2\u001b[39m.\u001b[39;49mwaitKey(\u001b[39m1\u001b[39;49m)\n\u001b[0;32m     <a href='vscode-notebook-cell:/d%3A/GitHub/Rock_CT_image/Semgmentation%20Assistant/Segmentation%20assistant.ipynb#W3sZmlsZQ%3D%3D?line=23'>24</a>\u001b[0m \u001b[39m# Press 'q' to quit\u001b[39;00m\n\u001b[0;32m     <a href='vscode-notebook-cell:/d%3A/GitHub/Rock_CT_image/Semgmentation%20Assistant/Segmentation%20assistant.ipynb#W3sZmlsZQ%3D%3D?line=24'>25</a>\u001b[0m \u001b[39mif\u001b[39;00m key \u001b[39m==\u001b[39m \u001b[39mord\u001b[39m(\u001b[39m\"\u001b[39m\u001b[39mq\u001b[39m\u001b[39m\"\u001b[39m):\n",
      "\u001b[1;31mKeyboardInterrupt\u001b[0m: "
     ]
    }
   ],
   "source": [
    "for image_path in images:\n",
    "    # Load the image\n",
    "    # image_path = 'aligned_250.png'  # Replace with the path to your image\n",
    "    image = cv2.imread(image_path)\n",
    "    if image is None:\n",
    "        print(\"Error: Unable to load image.\")\n",
    "        exit()\n",
    "\n",
    "    # cv2.putText(image, f'brush_size is {brush_size}')\n",
    "\n",
    "    # Create a black mask with the same dimensions as the image\n",
    "    mask = np.zeros(image.shape[:2], dtype=np.uint8)\n",
    "\n",
    "    cv2.namedWindow(\"Image\")\n",
    "    cv2.setMouseCallback(\"Image\", draw_freehand)\n",
    "\n",
    "    while True:\n",
    "        # Display the current state of the image\n",
    "        display_image = cv2.addWeighted(image, 0.8, cv2.cvtColor(mask, cv2.COLOR_GRAY2BGR), 0.2, 0)\n",
    "        cv2.imshow(\"Image\", display_image)\n",
    "\n",
    "        key = cv2.waitKey(1)\n",
    "\n",
    "        # Press 'q' to quit\n",
    "        if key == ord(\"q\"):\n",
    "            os.remove(image_path)\n",
    "            cv2.imwrite('./mask/' + image_path.split('/')[-1], image)\n",
    "            break\n",
    "        if key == ord(\"r\"):\n",
    "            image = cv2.imread(image_path)\n",
    "\n",
    "cv2.destroyAllWindows()\n"
   ]
  },
  {
   "cell_type": "code",
   "execution_count": 13,
   "metadata": {},
   "outputs": [
    {
     "ename": "FileNotFoundError",
     "evalue": "[WinError 3] The system cannot find the path specified: './mask/'",
     "output_type": "error",
     "traceback": [
      "\u001b[1;31m---------------------------------------------------------------------------\u001b[0m",
      "\u001b[1;31mFileNotFoundError\u001b[0m                         Traceback (most recent call last)",
      "\u001b[1;32mc:\\Users\\Windows\\Desktop\\X-Ray CT information\\X-Ray CT - Ramyar\\synthetic image model.ipynb Cell 5\u001b[0m line \u001b[0;36m1\n\u001b[0;32m     <a href='vscode-notebook-cell:/c%3A/Users/Windows/Desktop/X-Ray%20CT%20information/X-Ray%20CT%20-%20Ramyar/synthetic%20image%20model.ipynb#W4sZmlsZQ%3D%3D?line=9'>10</a>\u001b[0m os\u001b[39m.\u001b[39mmakedirs(output_dir, exist_ok\u001b[39m=\u001b[39m\u001b[39mTrue\u001b[39;00m)\n\u001b[0;32m     <a href='vscode-notebook-cell:/c%3A/Users/Windows/Desktop/X-Ray%20CT%20information/X-Ray%20CT%20-%20Ramyar/synthetic%20image%20model.ipynb#W4sZmlsZQ%3D%3D?line=11'>12</a>\u001b[0m \u001b[39m# Process each image in the input directory\u001b[39;00m\n\u001b[1;32m---> <a href='vscode-notebook-cell:/c%3A/Users/Windows/Desktop/X-Ray%20CT%20information/X-Ray%20CT%20-%20Ramyar/synthetic%20image%20model.ipynb#W4sZmlsZQ%3D%3D?line=12'>13</a>\u001b[0m \u001b[39mfor\u001b[39;00m filename \u001b[39min\u001b[39;00m os\u001b[39m.\u001b[39;49mlistdir(input_dir):\n\u001b[0;32m     <a href='vscode-notebook-cell:/c%3A/Users/Windows/Desktop/X-Ray%20CT%20information/X-Ray%20CT%20-%20Ramyar/synthetic%20image%20model.ipynb#W4sZmlsZQ%3D%3D?line=13'>14</a>\u001b[0m     \u001b[39mif\u001b[39;00m filename\u001b[39m.\u001b[39mlower()\u001b[39m.\u001b[39mendswith((\u001b[39m'\u001b[39m\u001b[39m.png\u001b[39m\u001b[39m'\u001b[39m, \u001b[39m'\u001b[39m\u001b[39m.jpg\u001b[39m\u001b[39m'\u001b[39m, \u001b[39m'\u001b[39m\u001b[39m.jpeg\u001b[39m\u001b[39m'\u001b[39m, \u001b[39m'\u001b[39m\u001b[39m.bmp\u001b[39m\u001b[39m'\u001b[39m, \u001b[39m'\u001b[39m\u001b[39m.tiff\u001b[39m\u001b[39m'\u001b[39m)):\n\u001b[0;32m     <a href='vscode-notebook-cell:/c%3A/Users/Windows/Desktop/X-Ray%20CT%20information/X-Ray%20CT%20-%20Ramyar/synthetic%20image%20model.ipynb#W4sZmlsZQ%3D%3D?line=14'>15</a>\u001b[0m         \u001b[39m# Read the image\u001b[39;00m\n\u001b[0;32m     <a href='vscode-notebook-cell:/c%3A/Users/Windows/Desktop/X-Ray%20CT%20information/X-Ray%20CT%20-%20Ramyar/synthetic%20image%20model.ipynb#W4sZmlsZQ%3D%3D?line=15'>16</a>\u001b[0m         image_path \u001b[39m=\u001b[39m os\u001b[39m.\u001b[39mpath\u001b[39m.\u001b[39mjoin(input_dir, filename)\n",
      "\u001b[1;31mFileNotFoundError\u001b[0m: [WinError 3] The system cannot find the path specified: './mask/'"
     ]
    }
   ],
   "source": [
    "import cv2\n",
    "import os\n",
    "import numpy as np\n",
    "\n",
    "# Input and output directory paths\n",
    "input_dir = \"./mask/\"  # Replace with your image directory\n",
    "output_dir = \"./final_mask/\"  # Replace with your desired output directory\n",
    "\n",
    "# Ensure the output directory exists\n",
    "os.makedirs(output_dir, exist_ok=True)\n",
    "\n",
    "# Process each image in the input directory\n",
    "for filename in os.listdir(input_dir):\n",
    "    if filename.lower().endswith(('.png', '.jpg', '.jpeg', '.bmp', '.tiff')):\n",
    "        # Read the image\n",
    "        image_path = os.path.join(input_dir, filename)\n",
    "        image = cv2.imread(image_path)\n",
    "\n",
    "        if image is None:\n",
    "            print(f\"Failed to read {filename}, skipping.\")\n",
    "            continue\n",
    "\n",
    "        # Create a binary mask: red color (0, 0, 255) -> 1, others -> 0\n",
    "        mask = np.zeros(image.shape[:2], dtype=np.uint8)  # Initialize mask with 0s\n",
    "        red_pixels = (image[:, :, 0] == 0) & (image[:, :, 1] == 0) & (image[:, :, 2] == 255)\n",
    "        mask[red_pixels] = 1  # Set red pixels to 1\n",
    "\n",
    "        # Save the binary mask\n",
    "        mask_path = os.path.join(output_dir, os.path.splitext(filename)[0] + \".png\")\n",
    "        cv2.imwrite(mask_path, mask * 255)  # Scale mask to 0-255 for saving as an image\n",
    "        print(f\"Processed and saved mask for {filename}\")\n"
   ]
  }
 ],
 "metadata": {
  "kernelspec": {
   "display_name": "gpu-pytorch",
   "language": "python",
   "name": "python3"
  },
  "language_info": {
   "codemirror_mode": {
    "name": "ipython",
    "version": 3
   },
   "file_extension": ".py",
   "mimetype": "text/x-python",
   "name": "python",
   "nbconvert_exporter": "python",
   "pygments_lexer": "ipython3",
   "version": "3.10.16"
  }
 },
 "nbformat": 4,
 "nbformat_minor": 2
}
